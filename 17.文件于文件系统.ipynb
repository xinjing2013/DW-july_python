{
 "cells": [
  {
   "cell_type": "markdown",
   "metadata": {},
   "source": [
    "# 1. 文件与文件系统"
   ]
  },
  {
   "cell_type": "markdown",
   "metadata": {},
   "source": [
    "## 打开文件"
   ]
  },
  {
   "cell_type": "markdown",
   "metadata": {},
   "source": [
    "\n",
    "- `open(file, mode='r', buffering=None, encoding=None, errors=None, newline=None, closefd=True)` Open file and return a stream.  Raise OSError upon failure.\n",
    "  - `file`: 必需，文件路径（相对或者绝对路径）。\n",
    "  - `mode`: 可选，文件打开模式\n",
    "  - `buffering`: 设置缓冲\n",
    "  - `encoding`: 一般使用utf8\n",
    "  - `errors`: 报错级别\n",
    "  - `newline`: 区分换行符\n",
    "\n",
    "常见的`mode`如下表所示："
   ]
  },
  {
   "cell_type": "markdown",
   "metadata": {},
   "source": [
    "\n",
    "\n",
    "| 打开模式 | 执行操作                                                     |\n",
    "| :------: | ------------------------------------------------------------ |\n",
    "|   'r'    | 以只读方式打开文件。文件的指针将会放在文件的开头。这是默认模式。 |\n",
    "|   'w'    | 打开一个文件只用于写入。<br>如果该文件已存在则打开文件，并从开头开始编辑。<br>即原有内容会被删除。<br>如果该文件不存在，创建新文件。 |\n",
    "|   'x'    | 写模式，新建一个文件，如果该文件已存在则会报错。             |\n",
    "|   'a'    | 追加模式，打开一个文件用于追加。<br>如果该文件已存在，文件指针将会放在文件的结尾。<br>也就是说，新的内容将会被写入到已有内容之后。<br>如果该文件不存在，创建新文件进行写入。 |\n",
    "|   'b'    | 以二进制模式打开文件。一般用于非文本文件，如：图片。         |\n",
    "|   't'    | 以文本模式打开（默认）。一般用于文本文件，如：txt。          |\n",
    "|   '+'    | 可读写模式（可添加到其它模式中使用）                         |\n",
    "\n",
    "\n",
    "\n"
   ]
  },
  {
   "cell_type": "markdown",
   "metadata": {},
   "source": [
    "【例】打开一个文件，并返回文件对象，如果该文件无法被打开，会抛出`OSError`。"
   ]
  },
  {
   "cell_type": "markdown",
   "metadata": {},
   "source": [
    "`创建《将进酒》文本时需保存为utf-8格式，否则默认windows下ANSI格式。`"
   ]
  },
  {
   "cell_type": "code",
   "execution_count": 5,
   "metadata": {
    "scrolled": true
   },
   "outputs": [
    {
     "name": "stdout",
     "output_type": "stream",
     "text": [
      "<_io.TextIOWrapper name='将进酒.txt' mode='r' encoding='cp936'>\n"
     ]
    },
    {
     "ename": "UnicodeDecodeError",
     "evalue": "'gbk' codec can't decode byte 0xa4 in position 52: illegal multibyte sequence",
     "output_type": "error",
     "traceback": [
      "\u001b[1;31m---------------------------------------------------------------------------\u001b[0m",
      "\u001b[1;31mUnicodeDecodeError\u001b[0m                        Traceback (most recent call last)",
      "\u001b[1;32m<ipython-input-5-78fcb8a415ce>\u001b[0m in \u001b[0;36m<module>\u001b[1;34m\u001b[0m\n\u001b[0;32m      3\u001b[0m \u001b[1;31m# <_io.TextIOWrapper name='将进酒.txt' mode='r' encoding='cp936'>\u001b[0m\u001b[1;33m\u001b[0m\u001b[1;33m\u001b[0m\u001b[1;33m\u001b[0m\u001b[0m\n\u001b[0;32m      4\u001b[0m \u001b[1;33m\u001b[0m\u001b[0m\n\u001b[1;32m----> 5\u001b[1;33m \u001b[1;32mfor\u001b[0m \u001b[0meach\u001b[0m \u001b[1;32min\u001b[0m \u001b[0mf\u001b[0m\u001b[1;33m:\u001b[0m\u001b[1;33m\u001b[0m\u001b[1;33m\u001b[0m\u001b[0m\n\u001b[0m\u001b[0;32m      6\u001b[0m     \u001b[0mprint\u001b[0m\u001b[1;33m(\u001b[0m\u001b[0meach\u001b[0m\u001b[1;33m)\u001b[0m\u001b[1;33m\u001b[0m\u001b[1;33m\u001b[0m\u001b[0m\n",
      "\u001b[1;31mUnicodeDecodeError\u001b[0m: 'gbk' codec can't decode byte 0xa4 in position 52: illegal multibyte sequence"
     ]
    }
   ],
   "source": [
    "f = open('将进酒.txt')\n",
    "print(f)\n",
    "# <_io.TextIOWrapper name='将进酒.txt' mode='r' encoding='cp936'>\n",
    "\n",
    "for each in f:\n",
    "    print(each)"
   ]
  },
  {
   "cell_type": "code",
   "execution_count": 6,
   "metadata": {},
   "outputs": [
    {
     "name": "stdout",
     "output_type": "stream",
     "text": [
      "<_io.TextIOWrapper name='将进酒.txt' mode='r' encoding='UTF-8'>\n",
      "君不见，黄河之水天上来，奔流到海不复回。\n",
      "\n",
      "君不见，高堂明镜悲白发，朝如青丝暮成雪。\n",
      "\n",
      "人生得意须尽欢，莫使金樽空对月。\n",
      "\n",
      "天生我材必有用，千金散尽还复来。\n",
      "\n",
      "烹羊宰牛且为乐，会须一饮三百杯。\n",
      "\n",
      "岑夫子，丹丘生，将进酒，杯莫停。\n",
      "\n",
      "与君歌一曲，请君为我倾耳听。\n",
      "\n",
      "钟鼓馔玉不足贵，但愿长醉不复醒。\n",
      "\n",
      "古来圣贤皆寂寞，惟有饮者留其名。\n",
      "\n",
      "陈王昔时宴平乐，斗酒十千恣欢谑。\n",
      "\n",
      "主人何为言少钱，径须沽取对君酌。\n",
      "\n",
      "五花马，千金裘，呼儿将出换美酒，与尔同销万古愁。\n"
     ]
    }
   ],
   "source": [
    "f = open('将进酒.txt','r', encoding='UTF-8')\n",
    "print(f)\n",
    "# <_io.TextIOWrapper name='将进酒.txt' mode='r' encoding='cp936'>\n",
    "\n",
    "for each in f:\n",
    "    print(each)"
   ]
  },
  {
   "cell_type": "markdown",
   "metadata": {},
   "source": [
    "## 文件对象方法\n",
    "\n",
    "- `fileObject.close()` 用于关闭一个已打开的文件。关闭后的文件不能再进行读写操作， 否则会触发`ValueError`错误。"
   ]
  },
  {
   "cell_type": "code",
   "execution_count": 7,
   "metadata": {},
   "outputs": [
    {
     "name": "stdout",
     "output_type": "stream",
     "text": [
      "FileName: 将进酒.txt\n"
     ]
    }
   ],
   "source": [
    "f = open(\"将进酒.txt\")\n",
    "print('FileName:', f.name)  # FileName: 将进酒.txt\n",
    "f.close()"
   ]
  },
  {
   "cell_type": "markdown",
   "metadata": {},
   "source": [
    "- `fileObject.read([size])` 用于从文件读取指定的<u>字符数</u>，如果未给定或为负则读取所有。\n",
    "\n"
   ]
  },
  {
   "cell_type": "code",
   "execution_count": 8,
   "metadata": {},
   "outputs": [
    {
     "ename": "UnicodeDecodeError",
     "evalue": "'gbk' codec can't decode byte 0xa4 in position 52: illegal multibyte sequence",
     "output_type": "error",
     "traceback": [
      "\u001b[1;31m---------------------------------------------------------------------------\u001b[0m",
      "\u001b[1;31mUnicodeDecodeError\u001b[0m                        Traceback (most recent call last)",
      "\u001b[1;32m<ipython-input-8-9c25c1667242>\u001b[0m in \u001b[0;36m<module>\u001b[1;34m\u001b[0m\n\u001b[0;32m      1\u001b[0m \u001b[0mf\u001b[0m \u001b[1;33m=\u001b[0m \u001b[0mopen\u001b[0m\u001b[1;33m(\u001b[0m\u001b[1;34m'将进酒.txt'\u001b[0m\u001b[1;33m,\u001b[0m \u001b[1;34m'r'\u001b[0m\u001b[1;33m)\u001b[0m\u001b[1;33m\u001b[0m\u001b[1;33m\u001b[0m\u001b[0m\n\u001b[1;32m----> 2\u001b[1;33m \u001b[0mline\u001b[0m \u001b[1;33m=\u001b[0m \u001b[0mf\u001b[0m\u001b[1;33m.\u001b[0m\u001b[0mread\u001b[0m\u001b[1;33m(\u001b[0m\u001b[1;36m20\u001b[0m\u001b[1;33m)\u001b[0m\u001b[1;33m\u001b[0m\u001b[1;33m\u001b[0m\u001b[0m\n\u001b[0m\u001b[0;32m      3\u001b[0m \u001b[0mprint\u001b[0m\u001b[1;33m(\u001b[0m\u001b[1;34m\"读取的字符串: %s\"\u001b[0m \u001b[1;33m%\u001b[0m \u001b[0mline\u001b[0m\u001b[1;33m)\u001b[0m\u001b[1;33m\u001b[0m\u001b[1;33m\u001b[0m\u001b[0m\n\u001b[0;32m      4\u001b[0m \u001b[1;31m# 读取的字符串: 君不见，黄河之水天上来，奔流到海不复回。\u001b[0m\u001b[1;33m\u001b[0m\u001b[1;33m\u001b[0m\u001b[1;33m\u001b[0m\u001b[0m\n\u001b[0;32m      5\u001b[0m \u001b[1;33m\u001b[0m\u001b[0m\n",
      "\u001b[1;31mUnicodeDecodeError\u001b[0m: 'gbk' codec can't decode byte 0xa4 in position 52: illegal multibyte sequence"
     ]
    }
   ],
   "source": [
    "f = open('将进酒.txt', 'r')\n",
    "line = f.read(20)\n",
    "print(\"读取的字符串: %s\" % line)\n",
    "# 读取的字符串: 君不见，黄河之水天上来，奔流到海不复回。\n",
    "\n",
    "f.close()"
   ]
  },
  {
   "cell_type": "code",
   "execution_count": 9,
   "metadata": {},
   "outputs": [
    {
     "name": "stdout",
     "output_type": "stream",
     "text": [
      "读取的字符串: 君不见，黄河之水天上来，奔流到海不复回。\n"
     ]
    }
   ],
   "source": [
    "f = open('将进酒.txt', 'r',encoding='UTF-8')\n",
    "line = f.read(20)\n",
    "print(\"读取的字符串: %s\" % line)\n",
    "# 读取的字符串: 君不见，黄河之水天上来，奔流到海不复回。\n",
    "\n",
    "f.close()"
   ]
  },
  {
   "cell_type": "markdown",
   "metadata": {},
   "source": [
    "- `fileObject.readline()`读取整行，包括 \"\\n\" 字符。"
   ]
  },
  {
   "cell_type": "code",
   "execution_count": 11,
   "metadata": {},
   "outputs": [
    {
     "name": "stdout",
     "output_type": "stream",
     "text": [
      "读取的字符串: 君不见，黄河之水天上来，奔流到海不复回。\n",
      "\n"
     ]
    }
   ],
   "source": [
    "f = open('将进酒.txt', 'r',encoding='UTF-8')\n",
    "line = f.readline()\n",
    "print(\"读取的字符串: %s\" % line)\n",
    "# 读取的字符串: 君不见，黄河之水天上来，奔流到海不复回。\n",
    "f.close()"
   ]
  },
  {
   "cell_type": "markdown",
   "metadata": {},
   "source": [
    "- `fileObject.readlines()`用于读取所有行(直到结束符 EOF)并返回列表，该列表可以由 Python 的 `for... in ...` 结构进行处理。"
   ]
  },
  {
   "cell_type": "code",
   "execution_count": 13,
   "metadata": {},
   "outputs": [
    {
     "name": "stdout",
     "output_type": "stream",
     "text": [
      "['君不见，黄河之水天上来，奔流到海不复回。\\n', '君不见，高堂明镜悲白发，朝如青丝暮成雪。\\n', '人生得意须尽欢，莫使金樽空对月。\\n', '天生我材必有用，千金散尽还复来。\\n', '烹羊宰牛且为乐，会须一饮三百杯。\\n', '岑夫子，丹丘生，将进酒，杯莫停。\\n', '与君歌一曲，请君为我倾耳听。\\n', '钟鼓馔玉不足贵，但愿长醉不复醒。\\n', '古来圣贤皆寂寞，惟有饮者留其名。\\n', '陈王昔时宴平乐，斗酒十千恣欢谑。\\n', '主人何为言少钱，径须沽取对君酌。\\n', '五花马，千金裘，呼儿将出换美酒，与尔同销万古愁。']\n",
      "君不见，黄河之水天上来，奔流到海不复回。\n",
      "\n",
      "君不见，高堂明镜悲白发，朝如青丝暮成雪。\n",
      "\n",
      "人生得意须尽欢，莫使金樽空对月。\n",
      "\n",
      "天生我材必有用，千金散尽还复来。\n",
      "\n",
      "烹羊宰牛且为乐，会须一饮三百杯。\n",
      "\n",
      "岑夫子，丹丘生，将进酒，杯莫停。\n",
      "\n",
      "与君歌一曲，请君为我倾耳听。\n",
      "\n",
      "钟鼓馔玉不足贵，但愿长醉不复醒。\n",
      "\n",
      "古来圣贤皆寂寞，惟有饮者留其名。\n",
      "\n",
      "陈王昔时宴平乐，斗酒十千恣欢谑。\n",
      "\n",
      "主人何为言少钱，径须沽取对君酌。\n",
      "\n",
      "五花马，千金裘，呼儿将出换美酒，与尔同销万古愁。\n"
     ]
    }
   ],
   "source": [
    "f = open('将进酒.txt', 'r',encoding='utf-8')\n",
    "lines = f.readlines()\n",
    "print(lines)\n",
    "\n",
    "for each in lines:\n",
    "    each.strip()\n",
    "    print(each)\n"
   ]
  },
  {
   "cell_type": "code",
   "execution_count": 14,
   "metadata": {},
   "outputs": [],
   "source": [
    "f.close()"
   ]
  },
  {
   "cell_type": "markdown",
   "metadata": {},
   "source": [
    "- `fileObject.tell()`返回文件的当前位置，即文件指针当前位置。"
   ]
  },
  {
   "cell_type": "code",
   "execution_count": 18,
   "metadata": {},
   "outputs": [
    {
     "name": "stdout",
     "output_type": "stream",
     "text": [
      "君不见，黄河之水天上来，奔流到海不复回。\n",
      "\n",
      "62\n"
     ]
    }
   ],
   "source": [
    "f = open('将进酒.txt', 'r',encoding='utf-8')\n",
    "line = f.readline()\n",
    "print(line)\n",
    "# 君不见，黄河之水天上来，奔流到海不复回。\n",
    "pos = f.tell()\n",
    "print(pos)  # 42\n",
    "f.close()"
   ]
  },
  {
   "cell_type": "markdown",
   "metadata": {},
   "source": [
    "`fileObject.seek(offset[, whence])`用于移动文件读取指针到指定位置。\n",
    "\n",
    "- `offset`：开始的偏移量，也就是代表需要移动偏移的字节数，如果是负数表示从倒数第几位开始。\n",
    "- `whence`：可选，默认值为 0。给 `offset` 定义一个参数，表示要从哪个位置开始偏移；0 代表从文件开头开始算起，1 代表从当前位置开始算起，2 代表从文件末尾算起。"
   ]
  },
  {
   "cell_type": "code",
   "execution_count": 20,
   "metadata": {},
   "outputs": [
    {
     "name": "stdout",
     "output_type": "stream",
     "text": [
      "君不见，黄河之水天上来，奔流到海不复回。\n",
      "\n",
      "君不见，高堂明镜悲白发，朝如青丝暮成雪。\n",
      "\n",
      "君不见，黄河之水天上来，奔流到海不复回。\n",
      "\n"
     ]
    }
   ],
   "source": [
    "f = open('将进酒.txt', 'r',encoding='utf-8')\n",
    "line = f.readline()\n",
    "print(line)\n",
    "# 君不见，黄河之水天上来，奔流到海不复回。\n",
    "line = f.readline()\n",
    "print(line)\n",
    "# 君不见，高堂明镜悲白发，朝如青丝暮成雪。\n",
    "f.seek(0, 0)\n",
    "line = f.readline()\n",
    "print(line)\n",
    "# 君不见，黄河之水天上来，奔流到海不复回。\n",
    "f.close()"
   ]
  },
  {
   "cell_type": "markdown",
   "metadata": {},
   "source": [
    "- `fileObject.write(str)`用于向文件中写入指定字符串，返回的是写入的字符长度。"
   ]
  },
  {
   "cell_type": "code",
   "execution_count": 21,
   "metadata": {},
   "outputs": [
    {
     "name": "stdout",
     "output_type": "stream",
     "text": [
      "16\n",
      "5\n",
      "b'5'\n",
      "13\n",
      "b'd'\n"
     ]
    }
   ],
   "source": [
    "f = open('workfile.txt', 'wb+')\n",
    "print(f.write(b'0123456789abcdef'))  # 16\n",
    "print(f.seek(5))  # 5\n",
    "print(f.read(1))  # b'5'\n",
    "print(f.seek(-3, 2))  # 13\n",
    "print(f.read(1))  # b'd'"
   ]
  },
  {
   "cell_type": "markdown",
   "metadata": {},
   "source": [
    "在文件关闭前或缓冲区刷新前，字符串内容存储在缓冲区中，这时你在文件中是看不到写入的内容的。\n",
    "\n",
    "如果文件打开模式带`b`，那写入文件内容时，`str`（参数）要用`encode`方法转为`bytes`形式，否则报错：`TypeError: a bytes-like object is required, not 'str'`。"
   ]
  },
  {
   "cell_type": "code",
   "execution_count": 22,
   "metadata": {},
   "outputs": [],
   "source": [
    "str = '...'\n",
    "# 文本 = Unicode字符序列\n",
    "# 相当于 string 类型\n",
    "\n",
    "str = b'...'\n",
    "# 文本 = 八位序列(0到255之间的整数)\n",
    "# 字节文字总是以‘b’或‘B’作为前缀；它们产生一个字节类型的实例，而不是str类型。\n",
    "# 相当于 byte[]"
   ]
  },
  {
   "cell_type": "code",
   "execution_count": 28,
   "metadata": {},
   "outputs": [
    {
     "name": "stdout",
     "output_type": "stream",
     "text": [
      "君不见，黄河之水天上来，奔流到海不复回。\n",
      "\n",
      "君不见，高堂明镜悲白发，朝如青丝暮成雪。\n",
      "\n",
      "人生得意须尽欢，莫使金樽空对月。\n",
      "\n",
      "天生我材必有用，千金散尽还复来。\n",
      "\n",
      "烹羊宰牛且为乐，会须一饮三百杯。\n",
      "\n",
      "岑夫子，丹丘生，将进酒，杯莫停。\n",
      "\n",
      "与君歌一曲，请君为我倾耳听。\n",
      "\n",
      "钟鼓馔玉不足贵，但愿长醉不复醒。\n",
      "\n",
      "古来圣贤皆寂寞，惟有饮者留其名。\n",
      "\n",
      "陈王昔时宴平乐，斗酒十千恣欢谑。\n",
      "\n",
      "主人何为言少钱，径须沽取对君酌。\n",
      "\n",
      "五花马，千金裘，呼儿将出换美酒，与尔同销万古愁。\n",
      "\n",
      "作者：李白\n"
     ]
    }
   ],
   "source": [
    "f = open('将进酒.txt', 'r+',encoding='utf-8')\n",
    "str = '\\n作者：李白'\n",
    "f.seek(0, 2)\n",
    "line = f.write(str)\n",
    "f.seek(0, 0)\n",
    "for each in f:\n",
    "    print(each)"
   ]
  },
  {
   "cell_type": "code",
   "execution_count": 29,
   "metadata": {},
   "outputs": [],
   "source": [
    "f.close()"
   ]
  },
  {
   "cell_type": "markdown",
   "metadata": {},
   "source": [
    "- `fileObject.writelines(sequence)`向文件写入一个序列字符串列表，如果需要换行则要自己加入每行的换行符`\\n`。"
   ]
  },
  {
   "cell_type": "code",
   "execution_count": 32,
   "metadata": {},
   "outputs": [
    {
     "name": "stdout",
     "output_type": "stream",
     "text": [
      "小马的程序人生\n",
      "\n",
      "老马的程序人生\n"
     ]
    }
   ],
   "source": [
    "f = open('test.txt', 'w+')\n",
    "seq = ['小马的程序人生\\n', '老马的程序人生']\n",
    "f.writelines(seq)\n",
    "f.seek(0, 0)\n",
    "for each in f:\n",
    "    print(each)"
   ]
  },
  {
   "cell_type": "code",
   "execution_count": 33,
   "metadata": {},
   "outputs": [],
   "source": [
    "f.close()"
   ]
  },
  {
   "cell_type": "markdown",
   "metadata": {},
   "source": [
    "---\n",
    "\n",
    "## 简洁的 with 语句\n",
    "\n",
    "一些对象定义了标准的清理行为，无论系统是否成功的使用了它，一旦不需要它了，那么这个标准的清理行为就会执行。\n",
    "\n",
    "关键词 with 语句就可以保证诸如文件之类的对象在使用完之后一定会正确的执行它的清理方法。"
   ]
  },
  {
   "cell_type": "code",
   "execution_count": 34,
   "metadata": {},
   "outputs": [
    {
     "ename": "TypeError",
     "evalue": "'str' object is not callable",
     "output_type": "error",
     "traceback": [
      "\u001b[1;31m---------------------------------------------------------------------------\u001b[0m",
      "\u001b[1;31mUnsupportedOperation\u001b[0m                      Traceback (most recent call last)",
      "\u001b[1;32m<ipython-input-34-d24ac5ae0c1f>\u001b[0m in \u001b[0;36m<module>\u001b[1;34m\u001b[0m\n\u001b[0;32m      2\u001b[0m     \u001b[0mf\u001b[0m \u001b[1;33m=\u001b[0m \u001b[0mopen\u001b[0m\u001b[1;33m(\u001b[0m\u001b[1;34m'myfile.txt'\u001b[0m\u001b[1;33m,\u001b[0m \u001b[1;34m'w'\u001b[0m\u001b[1;33m)\u001b[0m\u001b[1;33m\u001b[0m\u001b[1;33m\u001b[0m\u001b[0m\n\u001b[1;32m----> 3\u001b[1;33m     \u001b[1;32mfor\u001b[0m \u001b[0mline\u001b[0m \u001b[1;32min\u001b[0m \u001b[0mf\u001b[0m\u001b[1;33m:\u001b[0m\u001b[1;33m\u001b[0m\u001b[1;33m\u001b[0m\u001b[0m\n\u001b[0m\u001b[0;32m      4\u001b[0m         \u001b[0mprint\u001b[0m\u001b[1;33m(\u001b[0m\u001b[0mline\u001b[0m\u001b[1;33m)\u001b[0m\u001b[1;33m\u001b[0m\u001b[1;33m\u001b[0m\u001b[0m\n",
      "\u001b[1;31mUnsupportedOperation\u001b[0m: not readable",
      "\nDuring handling of the above exception, another exception occurred:\n",
      "\u001b[1;31mTypeError\u001b[0m                                 Traceback (most recent call last)",
      "\u001b[1;32m<ipython-input-34-d24ac5ae0c1f>\u001b[0m in \u001b[0;36m<module>\u001b[1;34m\u001b[0m\n\u001b[0;32m      4\u001b[0m         \u001b[0mprint\u001b[0m\u001b[1;33m(\u001b[0m\u001b[0mline\u001b[0m\u001b[1;33m)\u001b[0m\u001b[1;33m\u001b[0m\u001b[1;33m\u001b[0m\u001b[0m\n\u001b[0;32m      5\u001b[0m \u001b[1;32mexcept\u001b[0m \u001b[0mOSError\u001b[0m \u001b[1;32mas\u001b[0m \u001b[0merror\u001b[0m\u001b[1;33m:\u001b[0m\u001b[1;33m\u001b[0m\u001b[1;33m\u001b[0m\u001b[0m\n\u001b[1;32m----> 6\u001b[1;33m     \u001b[0mprint\u001b[0m\u001b[1;33m(\u001b[0m\u001b[1;34m'出错啦!%s'\u001b[0m \u001b[1;33m%\u001b[0m \u001b[0mstr\u001b[0m\u001b[1;33m(\u001b[0m\u001b[0merror\u001b[0m\u001b[1;33m)\u001b[0m\u001b[1;33m)\u001b[0m\u001b[1;33m\u001b[0m\u001b[1;33m\u001b[0m\u001b[0m\n\u001b[0m\u001b[0;32m      7\u001b[0m \u001b[1;32mfinally\u001b[0m\u001b[1;33m:\u001b[0m\u001b[1;33m\u001b[0m\u001b[1;33m\u001b[0m\u001b[0m\n\u001b[0;32m      8\u001b[0m     \u001b[0mf\u001b[0m\u001b[1;33m.\u001b[0m\u001b[0mclose\u001b[0m\u001b[1;33m(\u001b[0m\u001b[1;33m)\u001b[0m\u001b[1;33m\u001b[0m\u001b[1;33m\u001b[0m\u001b[0m\n",
      "\u001b[1;31mTypeError\u001b[0m: 'str' object is not callable"
     ]
    }
   ],
   "source": [
    "try:\n",
    "    f = open('myfile.txt', 'w')\n",
    "    for line in f:\n",
    "        print(line)\n",
    "except OSError as error:\n",
    "    print('出错啦!%s' % str(error))\n",
    "finally:\n",
    "    f.close()"
   ]
  },
  {
   "cell_type": "code",
   "execution_count": 45,
   "metadata": {},
   "outputs": [
    {
     "ename": "TypeError",
     "evalue": "'str' object is not callable",
     "output_type": "error",
     "traceback": [
      "\u001b[1;31m---------------------------------------------------------------------------\u001b[0m",
      "\u001b[1;31mUnsupportedOperation\u001b[0m                      Traceback (most recent call last)",
      "\u001b[1;32m<ipython-input-45-bb10ef781dc1>\u001b[0m in \u001b[0;36m<module>\u001b[1;34m\u001b[0m\n\u001b[0;32m      2\u001b[0m     \u001b[1;32mwith\u001b[0m \u001b[0mopen\u001b[0m\u001b[1;33m(\u001b[0m\u001b[1;34m'myfile.txt'\u001b[0m\u001b[1;33m,\u001b[0m \u001b[1;34m'w'\u001b[0m\u001b[1;33m)\u001b[0m \u001b[1;32mas\u001b[0m \u001b[0mf\u001b[0m\u001b[1;33m:\u001b[0m\u001b[1;33m\u001b[0m\u001b[1;33m\u001b[0m\u001b[0m\n\u001b[1;32m----> 3\u001b[1;33m         \u001b[1;32mfor\u001b[0m \u001b[0mline\u001b[0m \u001b[1;32min\u001b[0m \u001b[0mf\u001b[0m\u001b[1;33m:\u001b[0m\u001b[1;33m\u001b[0m\u001b[1;33m\u001b[0m\u001b[0m\n\u001b[0m\u001b[0;32m      4\u001b[0m             \u001b[0mprint\u001b[0m\u001b[1;33m(\u001b[0m\u001b[0mline\u001b[0m\u001b[1;33m)\u001b[0m\u001b[1;33m\u001b[0m\u001b[1;33m\u001b[0m\u001b[0m\n",
      "\u001b[1;31mUnsupportedOperation\u001b[0m: not readable",
      "\nDuring handling of the above exception, another exception occurred:\n",
      "\u001b[1;31mTypeError\u001b[0m                                 Traceback (most recent call last)",
      "\u001b[1;32m<ipython-input-45-bb10ef781dc1>\u001b[0m in \u001b[0;36m<module>\u001b[1;34m\u001b[0m\n\u001b[0;32m      4\u001b[0m             \u001b[0mprint\u001b[0m\u001b[1;33m(\u001b[0m\u001b[0mline\u001b[0m\u001b[1;33m)\u001b[0m\u001b[1;33m\u001b[0m\u001b[1;33m\u001b[0m\u001b[0m\n\u001b[0;32m      5\u001b[0m \u001b[1;32mexcept\u001b[0m \u001b[0mOSError\u001b[0m \u001b[1;32mas\u001b[0m \u001b[0merror\u001b[0m\u001b[1;33m:\u001b[0m\u001b[1;33m\u001b[0m\u001b[1;33m\u001b[0m\u001b[0m\n\u001b[1;32m----> 6\u001b[1;33m     \u001b[0mprint\u001b[0m\u001b[1;33m(\u001b[0m\u001b[1;34m'出错啦!%s'\u001b[0m \u001b[1;33m%\u001b[0m \u001b[0mstr\u001b[0m\u001b[1;33m(\u001b[0m\u001b[0merror\u001b[0m\u001b[1;33m)\u001b[0m\u001b[1;33m)\u001b[0m\u001b[1;33m\u001b[0m\u001b[1;33m\u001b[0m\u001b[0m\n\u001b[0m",
      "\u001b[1;31mTypeError\u001b[0m: 'str' object is not callable"
     ]
    }
   ],
   "source": [
    "try:\n",
    "    with open('myfile.txt', 'w') as f:\n",
    "        for line in f:\n",
    "            print(line)\n",
    "except OSError as error:\n",
    "    print('出错啦!%s' % str(error))\n"
   ]
  },
  {
   "cell_type": "markdown",
   "metadata": {},
   "source": [
    "# 2. OS 模块中关于文件/目录常用的函数\n",
    "\n",
    "我们所知道常用的操作系统就有：Windows，Mac OS，Linu，Unix等，这些操作系统底层对于文件系统的访问工作原理是不一样的，因此你可能就要针对不同的系统来考虑使用哪些文件系统模块……，这样的做法是非常不友好且麻烦的，因为这样就意味着当你的程序运行环境一改变，你就要相应的去修改大量的代码来应对。\n",
    "\n",
    "有了OS（Operation System）模块，我们不需要关心什么操作系统下使用什么模块，OS模块会帮你选择正确的模块并调用。\n",
    "\n",
    "\n",
    "\n",
    "- `os.getcwd()`用于返回当前工作目录。\n",
    "- `os.chdir(path)`用于改变当前工作目录到指定的路径。"
   ]
  },
  {
   "cell_type": "code",
   "execution_count": 46,
   "metadata": {},
   "outputs": [
    {
     "name": "stdout",
     "output_type": "stream",
     "text": [
      "当前工作目录 : C:\\Users\\xinjing\\Desktop\\workplace\\DataWhale\\15\\python\n",
      "目录修改成功 : C:\\\n"
     ]
    }
   ],
   "source": [
    "import os\n",
    "\n",
    "path = 'C:\\\\'\n",
    "print(\"当前工作目录 : %s\" % os.getcwd())\n",
    "\n",
    "os.chdir(path)\n",
    "print(\"目录修改成功 : %s\" % os.getcwd())\n"
   ]
  },
  {
   "cell_type": "markdown",
   "metadata": {},
   "source": [
    "- `listdir (path='.')`返回`path`指定的文件夹包含的文件或文件夹的名字的列表。"
   ]
  },
  {
   "cell_type": "code",
   "execution_count": 48,
   "metadata": {},
   "outputs": [
    {
     "name": "stdout",
     "output_type": "stream",
     "text": [
      "$Recycle.Bin\n",
      "$SysReset\n",
      "$WINRE_BACKUP_PARTITION.MARKER\n",
      ".__deepin.db\n",
      "bootmgr\n",
      "bootTel.dat\n",
      "Documents and Settings\n",
      "FDownload\n",
      "found.000\n",
      "Foxit ContentPlatform\n",
      "hiberfil.sys\n",
      "Intel\n",
      "MiFlashvcom.ini\n",
      "OneDriveTemp\n",
      "pagefile.sys\n",
      "PerfLogs\n",
      "Program Files\n",
      "Program Files (x86)\n",
      "ProgramData\n",
      "Python27\n",
      "Recovery\n",
      "swapfile.sys\n",
      "System Volume Information\n",
      "temp\n",
      "Users\n",
      "Windows\n",
      "XSBDownload\n"
     ]
    }
   ],
   "source": [
    "import os\n",
    "\n",
    "dirs = os.listdir()\n",
    "for item in dirs:\n",
    "    print(item)"
   ]
  },
  {
   "cell_type": "markdown",
   "metadata": {},
   "source": [
    "- `os.mkdir(path)`创建单层目录，如果该目录已存在抛出异常。"
   ]
  },
  {
   "cell_type": "code",
   "execution_count": 49,
   "metadata": {},
   "outputs": [
    {
     "ename": "FileNotFoundError",
     "evalue": "[WinError 3] The system cannot find the path specified: '.\\\\C\\\\A'",
     "output_type": "error",
     "traceback": [
      "\u001b[1;31m---------------------------------------------------------------------------\u001b[0m",
      "\u001b[1;31mFileNotFoundError\u001b[0m                         Traceback (most recent call last)",
      "\u001b[1;32m<ipython-input-49-beb75dcdca7e>\u001b[0m in \u001b[0;36m<module>\u001b[1;34m\u001b[0m\n\u001b[0;32m      5\u001b[0m     \u001b[0mos\u001b[0m\u001b[1;33m.\u001b[0m\u001b[0mmkdir\u001b[0m\u001b[1;33m(\u001b[0m\u001b[1;34mr'.\\B\\A'\u001b[0m\u001b[1;33m)\u001b[0m\u001b[1;33m\u001b[0m\u001b[1;33m\u001b[0m\u001b[0m\n\u001b[0;32m      6\u001b[0m \u001b[1;33m\u001b[0m\u001b[0m\n\u001b[1;32m----> 7\u001b[1;33m \u001b[0mos\u001b[0m\u001b[1;33m.\u001b[0m\u001b[0mmkdir\u001b[0m\u001b[1;33m(\u001b[0m\u001b[1;34mr'.\\C\\A'\u001b[0m\u001b[1;33m)\u001b[0m \u001b[1;31m# FileNotFoundError\u001b[0m\u001b[1;33m\u001b[0m\u001b[1;33m\u001b[0m\u001b[0m\n\u001b[0m",
      "\u001b[1;31mFileNotFoundError\u001b[0m: [WinError 3] The system cannot find the path specified: '.\\\\C\\\\A'"
     ]
    }
   ],
   "source": [
    "import os\n",
    "\n",
    "if os.path.isdir(r'.\\b') is False:\n",
    "    os.mkdir(r'.\\B')\n",
    "    os.mkdir(r'.\\B\\A')\n",
    "\n",
    "os.mkdir(r'.\\C\\A') # FileNotFoundError"
   ]
  },
  {
   "cell_type": "markdown",
   "metadata": {},
   "source": [
    "- `os.makedirs(path)`用于递归创建多层目录，如果该目录已存在抛出异常。"
   ]
  },
  {
   "cell_type": "code",
   "execution_count": 50,
   "metadata": {},
   "outputs": [],
   "source": [
    "import os\n",
    "os.makedirs(r'.\\E\\A')"
   ]
  },
  {
   "cell_type": "markdown",
   "metadata": {},
   "source": [
    "- `os.remove(path)`用于删除指定路径的文件。如果指定的路径是一个目录，将抛出 `OSError`。"
   ]
  },
  {
   "cell_type": "markdown",
   "metadata": {},
   "source": [
    "【例】首先创建`.\\E\\A\\text.txt`文件，然后进行删除。"
   ]
  },
  {
   "cell_type": "code",
   "execution_count": 52,
   "metadata": {},
   "outputs": [
    {
     "name": "stdout",
     "output_type": "stream",
     "text": [
      "目录为: ['test.txt']\n",
      "目录为: []\n"
     ]
    }
   ],
   "source": [
    "import os\n",
    "\n",
    "print(\"目录为: %s\" % os.listdir(r'.\\E\\A'))\n",
    "os.remove(r'.\\E\\A\\test.txt')\n",
    "print(\"目录为: %s\" % os.listdir(r'.\\E\\A'))"
   ]
  },
  {
   "cell_type": "markdown",
   "metadata": {},
   "source": [
    "- `os.rmdir(path)`用于删除单层目录。仅当这文件夹是空的才可以, 否则, 抛出 `OSError`。"
   ]
  },
  {
   "cell_type": "markdown",
   "metadata": {},
   "source": [
    "【例】首先创建`.\\E\\A`目录，然后进行删除。"
   ]
  },
  {
   "cell_type": "code",
   "execution_count": 55,
   "metadata": {},
   "outputs": [
    {
     "name": "stdout",
     "output_type": "stream",
     "text": [
      "目录为: ['A']\n",
      "目录为: ['A']\n"
     ]
    }
   ],
   "source": [
    "import os\n",
    "\n",
    "print(\"目录为: %s\" % os.listdir(r'.\\E'))\n",
    "os.rmdir(r'.\\E\\A')\n",
    "print(\"目录为: %s\" % os.listdir(r'.\\E'))"
   ]
  },
  {
   "cell_type": "markdown",
   "metadata": {},
   "source": [
    "- `os.removedirs(path)`递归删除目录，从子目录到父目录逐层尝试删除，遇到目录非空则抛出异常。"
   ]
  },
  {
   "cell_type": "markdown",
   "metadata": {},
   "source": [
    "【例】首先创建`.\\E\\A`目录，然后进行删除。"
   ]
  },
  {
   "cell_type": "code",
   "execution_count": 56,
   "metadata": {},
   "outputs": [],
   "source": [
    "os.makedirs(r'.\\E\\A')"
   ]
  },
  {
   "cell_type": "code",
   "execution_count": 57,
   "metadata": {},
   "outputs": [
    {
     "name": "stdout",
     "output_type": "stream",
     "text": [
      "目录为: ['$Recycle.Bin', '$SysReset', '$WINRE_BACKUP_PARTITION.MARKER', '.__deepin.db', 'B', 'bootmgr', 'bootTel.dat', 'Documents and Settings', 'E', 'FDownload', 'found.000', 'Foxit ContentPlatform', 'hiberfil.sys', 'Intel', 'MiFlashvcom.ini', 'OneDriveTemp', 'pagefile.sys', 'PerfLogs', 'Program Files', 'Program Files (x86)', 'ProgramData', 'Python27', 'Recovery', 'swapfile.sys', 'System Volume Information', 'temp', 'Users', 'Windows', 'XSBDownload']\n",
      "目录为: ['$Recycle.Bin', '$SysReset', '$WINRE_BACKUP_PARTITION.MARKER', '.__deepin.db', 'B', 'bootmgr', 'bootTel.dat', 'Documents and Settings', 'E', 'FDownload', 'found.000', 'Foxit ContentPlatform', 'hiberfil.sys', 'Intel', 'MiFlashvcom.ini', 'OneDriveTemp', 'pagefile.sys', 'PerfLogs', 'Program Files', 'Program Files (x86)', 'ProgramData', 'Python27', 'Recovery', 'swapfile.sys', 'System Volume Information', 'temp', 'Users', 'Windows', 'XSBDownload']\n"
     ]
    }
   ],
   "source": [
    "import os\n",
    "\n",
    "print(\"目录为: %s\" % os.listdir(os.getcwd()))\n",
    "os.removedirs(r'.\\E\\A')  # 先删除A 然后删除E\n",
    "print(\"目录为: %s\" % os.listdir(os.getcwd()))"
   ]
  },
  {
   "cell_type": "markdown",
   "metadata": {},
   "source": [
    "- `os.rename(src, dst)`方法用于命名文件或目录，从 `src` 到 `dst`，如果 `dst` 是一个存在的目录, 将抛出 `OSError`。"
   ]
  },
  {
   "cell_type": "markdown",
   "metadata": {},
   "source": [
    "【例】把test.txt文件重命名为test2.txt。"
   ]
  },
  {
   "cell_type": "code",
   "execution_count": 59,
   "metadata": {},
   "outputs": [
    {
     "name": "stdout",
     "output_type": "stream",
     "text": [
      "当前工作目录 : C:\\\n",
      "目录修改成功 : C:\\Users\\xinjing\\Desktop\\workplace\\DataWhale\\15\\python\n"
     ]
    }
   ],
   "source": [
    "import os\n",
    "\n",
    "\n",
    "print(\"当前工作目录 : %s\" % os.getcwd())\n",
    "\n",
    "os.chdir(r'C:\\Users\\xinjing\\Desktop\\workplace\\DataWhale\\15\\python')\n",
    "print(\"目录修改成功 : %s\" % os.getcwd())\n"
   ]
  },
  {
   "cell_type": "code",
   "execution_count": 60,
   "metadata": {},
   "outputs": [],
   "source": [
    "os.makedirs(r'.\\E\\A')"
   ]
  },
  {
   "cell_type": "code",
   "execution_count": 61,
   "metadata": {},
   "outputs": [
    {
     "name": "stdout",
     "output_type": "stream",
     "text": [
      "当前工作目录 : C:\\Users\\xinjing\\Desktop\\workplace\\DataWhale\\15\\python\n"
     ]
    }
   ],
   "source": [
    "print(\"当前工作目录 : %s\" % os.getcwd())"
   ]
  },
  {
   "cell_type": "code",
   "execution_count": 62,
   "metadata": {},
   "outputs": [
    {
     "name": "stdout",
     "output_type": "stream",
     "text": [
      "目录修改成功 : C:\\Users\\xinjing\\Desktop\\workplace\\DataWhale\\15\\python\\E\\A\n"
     ]
    }
   ],
   "source": [
    "os.chdir(r'C:\\Users\\xinjing\\Desktop\\workplace\\DataWhale\\15\\python\\E\\A')\n",
    "print(\"目录修改成功 : %s\" % os.getcwd())\n"
   ]
  },
  {
   "cell_type": "code",
   "execution_count": 64,
   "metadata": {},
   "outputs": [
    {
     "ename": "AttributeError",
     "evalue": "module 'os' has no attribute 'mknod'",
     "output_type": "error",
     "traceback": [
      "\u001b[1;31m---------------------------------------------------------------------------\u001b[0m",
      "\u001b[1;31mAttributeError\u001b[0m                            Traceback (most recent call last)",
      "\u001b[1;32m<ipython-input-64-104c854e1081>\u001b[0m in \u001b[0;36m<module>\u001b[1;34m\u001b[0m\n\u001b[1;32m----> 1\u001b[1;33m \u001b[0mos\u001b[0m\u001b[1;33m.\u001b[0m\u001b[0mmknod\u001b[0m\u001b[1;33m(\u001b[0m\u001b[1;34m\"test.txt\"\u001b[0m\u001b[1;33m)\u001b[0m\u001b[1;33m\u001b[0m\u001b[1;33m\u001b[0m\u001b[0m\n\u001b[0m",
      "\u001b[1;31mAttributeError\u001b[0m: module 'os' has no attribute 'mknod'"
     ]
    }
   ],
   "source": [
    "os.mknod(\"test.txt\")"
   ]
  },
  {
   "cell_type": "markdown",
   "metadata": {},
   "source": [
    "因为在Windows上没有node这个概念,到相应目录下手动创建test.txt空文件\n"
   ]
  },
  {
   "cell_type": "code",
   "execution_count": 65,
   "metadata": {},
   "outputs": [
    {
     "name": "stdout",
     "output_type": "stream",
     "text": [
      "目录为: ['test.txt']\n",
      "重命名成功。\n",
      "目录为: ['test2.txt']\n"
     ]
    }
   ],
   "source": [
    "import os\n",
    "\n",
    "print(\"目录为: %s\" % os.listdir(os.getcwd()))\n",
    "os.rename(\"test.txt\", \"test2.txt\")\n",
    "print(\"重命名成功。\")\n",
    "print(\"目录为: %s\" % os.listdir(os.getcwd()))"
   ]
  },
  {
   "cell_type": "markdown",
   "metadata": {},
   "source": [
    "- `os.system(command)`运行系统的shell命令（将字符串转化成命令）"
   ]
  },
  {
   "cell_type": "markdown",
   "metadata": {},
   "source": [
    "【例】先自行创建一个a.py的文件，然后由shell命令打开。"
   ]
  },
  {
   "cell_type": "code",
   "execution_count": 66,
   "metadata": {},
   "outputs": [
    {
     "data": {
      "text/plain": [
       "0"
      ]
     },
     "execution_count": 66,
     "metadata": {},
     "output_type": "execute_result"
    }
   ],
   "source": [
    "import os\n",
    "\n",
    "path = os.getcwd() + '\\\\a.py'\n",
    "a = os.system(r'python %s' % path)\n",
    "\n",
    "os.system('calc')  # 打开计算器"
   ]
  },
  {
   "cell_type": "markdown",
   "metadata": {},
   "source": [
    "- `os.curdir`指代当前目录（`.`）\n",
    "- `os.pardir`指代上一级目录（`..`）\n",
    "- `os.sep`输出操作系统特定的路径分隔符（win下为`\\\\`，Linux下为`/`）\n",
    "- `os.linesep`当前平台使用的行终止符（win下为`\\r\\n`，Linux下为`\\n`）\n",
    "- `os.name`指代当前使用的操作系统（包括：'mac'，'nt'）"
   ]
  },
  {
   "cell_type": "code",
   "execution_count": 67,
   "metadata": {},
   "outputs": [
    {
     "name": "stdout",
     "output_type": "stream",
     "text": [
      ".\n",
      "..\n",
      "\\\n",
      "\r\n",
      "\n",
      "nt\n"
     ]
    }
   ],
   "source": [
    "import os\n",
    "\n",
    "print(os.curdir)  # .\n",
    "print(os.pardir)  # ..\n",
    "print(os.sep)  # \\\n",
    "print(os.linesep)\n",
    "print(os.name)  # nt"
   ]
  },
  {
   "cell_type": "markdown",
   "metadata": {},
   "source": [
    "- `os.path.basename(path)`去掉目录路径，单独返回文件名\n",
    "- `os.path.dirname(path)`去掉文件名，单独返回目录路径\n",
    "- `os.path.join(path1[, path2[, ...]])`将 `path1`，`path2` 各部分组合成一个路径名\n",
    "- `os.path.split(path)`分割文件名与路径，返回`(f_path,f_name)`元组。如果完全使用目录，它会将最后一个目录作为文件名分离，且不会判断文件或者目录是否存在。\n",
    "- `os.path.splitext(path)`分离文件名与扩展名，返回`(f_path,f_name)`元组。"
   ]
  },
  {
   "cell_type": "code",
   "execution_count": 68,
   "metadata": {},
   "outputs": [
    {
     "name": "stdout",
     "output_type": "stream",
     "text": [
      "lsgo.txt\n",
      "C:\\test\n",
      "C:\\test\\lsgo.txt\n",
      "('C:\\\\test', 'lsgo.txt')\n",
      "('C:\\\\test\\\\lsgo', '.txt')\n"
     ]
    }
   ],
   "source": [
    "import os\n",
    "\n",
    "# 返回文件名\n",
    "print(os.path.basename(r'C:\\test\\lsgo.txt'))  # lsgo.txt\n",
    "# 返回目录路径\n",
    "print(os.path.dirname(r'C:\\test\\lsgo.txt'))  # C:\\test\n",
    "# 将目录和文件名合成一个路径\n",
    "print(os.path.join('C:\\\\', 'test', 'lsgo.txt'))  # C:\\test\\lsgo.txt\n",
    "# 分割文件名与路径\n",
    "print(os.path.split(r'C:\\test\\lsgo.txt'))  # ('C:\\\\test', 'lsgo.txt')\n",
    "# 分离文件名与扩展名\n",
    "print(os.path.splitext(r'C:\\test\\lsgo.txt'))  # ('C:\\\\test\\\\lsgo', '.txt')"
   ]
  },
  {
   "cell_type": "markdown",
   "metadata": {},
   "source": [
    "- `os.path.getsize(file)`返回指定文件大小，单位是字节。\n",
    "- `os.path.getatime(file)`返回指定文件最近的访问时间\n",
    "- `os.path.getctime(file)`返回指定文件的创建时间\n",
    "- `os.path.getmtime(file)`返回指定文件的最新的修改时间\n",
    "- 浮点型秒数，可用time模块的`gmtime()`或`localtime()`函数换算"
   ]
  },
  {
   "cell_type": "code",
   "execution_count": 70,
   "metadata": {},
   "outputs": [
    {
     "name": "stdout",
     "output_type": "stream",
     "text": [
      "0\n",
      "1596900397.9511788\n",
      "1596900397.9511788\n",
      "1596900397.9511788\n",
      "time.struct_time(tm_year=2020, tm_mon=8, tm_mday=8, tm_hour=15, tm_min=26, tm_sec=37, tm_wday=5, tm_yday=221, tm_isdst=0)\n",
      "time.struct_time(tm_year=2020, tm_mon=8, tm_mday=8, tm_hour=23, tm_min=26, tm_sec=37, tm_wday=5, tm_yday=221, tm_isdst=0)\n"
     ]
    }
   ],
   "source": [
    "# 先在当前工作目录创建lsgo.txt\n",
    "import os\n",
    "import time\n",
    "\n",
    "file = r'.\\lsgo.txt'\n",
    "print(os.path.getsize(file))  # 30\n",
    "print(os.path.getatime(file))  # 1565593737.347196\n",
    "print(os.path.getctime(file))  # 1565593737.347196\n",
    "print(os.path.getmtime(file))  # 1565593797.9298275\n",
    "print(time.gmtime(os.path.getctime(file)))\n",
    "# time.struct_time(tm_year=2019, tm_mon=8, tm_mday=12, tm_hour=7, tm_min=8, tm_sec=57, tm_wday=0, tm_yday=224, tm_isdst=0)\n",
    "print(time.localtime(os.path.getctime(file)))\n",
    "# time.struct_time(tm_year=2019, tm_mon=8, tm_mday=12, tm_hour=15, tm_min=8, tm_sec=57, tm_wday=0, tm_yday=224, tm_isdst=0)"
   ]
  },
  {
   "cell_type": "markdown",
   "metadata": {},
   "source": [
    "- `os.path.exists(path)`判断指定路径（目录或文件）是否存在\n",
    "- `os.path.isabs(path)`判断指定路径是否为绝对路径\n",
    "- `os.path.isdir(path)`判断指定路径是否存在且是一个目录\n",
    "- `os.path.isfile(path)`判断指定路径是否存在且是一个文件\n",
    "- `os.path.islink(path)`判断指定路径是否存在且是一个符号链接\n",
    "- `os.path.ismount(path)`判断指定路径是否存在且是一个悬挂点\n",
    "- `os.path.samefile(path1,path2)`判断path1和path2两个路径是否指向同一个文件"
   ]
  },
  {
   "cell_type": "code",
   "execution_count": 71,
   "metadata": {},
   "outputs": [
    {
     "name": "stdout",
     "output_type": "stream",
     "text": [
      "True\n",
      "False\n"
     ]
    }
   ],
   "source": [
    "import os\n",
    "\n",
    "print(os.path.ismount('D:\\\\'))  # True\n",
    "print(os.path.ismount('D:\\\\Test'))  # False"
   ]
  },
  {
   "cell_type": "markdown",
   "metadata": {},
   "source": [
    "\n",
    "\n",
    "# 3. 序列化与反序列化\n",
    "\n",
    "Python 的 pickle 模块实现了基本的数据序列和反序列化。\n",
    "\n",
    "- 通过 pickle 模块的序列化操作我们能够将程序中运行的对象信息保存到文件中去，永久存储。\n",
    "- 通过 pickle 模块的反序列化操作，我们能够从文件中创建上一次程序保存的对象。\n",
    "\n",
    "pickle模块中最常用的函数为：\n",
    "\n",
    "`pickle.dump(obj, file, [,protocol])` 将`obj`对象序列化存入已经打开的`file`中。\n",
    "\n",
    "- `obj`：想要序列化的`obj`对象。\n",
    "- `file`:文件名称。\n",
    "- `protocol`：序列化使用的协议。如果该项省略，则默认为0。如果为负值或`HIGHEST_PROTOCOL`，则使用最高的协议版本。\n",
    "\n",
    "\n",
    "`pickle.load(file)` 将`file`中的对象序列化读出。\n",
    "\n",
    "- `file`：文件名称。\n",
    "\n",
    "\n",
    "【例】"
   ]
  },
  {
   "cell_type": "code",
   "execution_count": 72,
   "metadata": {},
   "outputs": [
    {
     "name": "stdout",
     "output_type": "stream",
     "text": [
      "[[1, 1, 'yes'], [1, 1, 'yes'], [1, 0, 'no'], [0, 1, 'no'], [0, 1, 'no']]\n",
      "{0: [1, 2, 3, 4], 1: ('a', 'b'), 2: {'c': 'yes', 'd': 'no'}}\n"
     ]
    }
   ],
   "source": [
    "import pickle\n",
    "\n",
    "dataList = [[1, 1, 'yes'],\n",
    "            [1, 1, 'yes'],\n",
    "            [1, 0, 'no'],\n",
    "            [0, 1, 'no'],\n",
    "            [0, 1, 'no']]\n",
    "dataDic = {0: [1, 2, 3, 4],\n",
    "           1: ('a', 'b'),\n",
    "           2: {'c': 'yes', 'd': 'no'}}\n",
    "\n",
    "# 使用dump()将数据序列化到文件中\n",
    "fw = open(r'.\\dataFile.pkl', 'wb')\n",
    "\n",
    "# Pickle the list using the highest protocol available.\n",
    "pickle.dump(dataList, fw, -1)\n",
    "\n",
    "# Pickle dictionary using protocol 0.\n",
    "pickle.dump(dataDic, fw)\n",
    "fw.close()\n",
    "\n",
    "# 使用load()将数据从文件中序列化读出\n",
    "fr = open('dataFile.pkl', 'rb')\n",
    "data1 = pickle.load(fr)\n",
    "print(data1)\n",
    "data2 = pickle.load(fr)\n",
    "print(data2)\n",
    "fr.close()"
   ]
  },
  {
   "cell_type": "markdown",
   "metadata": {},
   "source": [
    "参考文献**：\n",
    "\n",
    "- https://www.runoob.com/python3/python3-tutorial.html\n",
    "- https://www.bilibili.com/video/av4050443"
   ]
  },
  {
   "cell_type": "code",
   "execution_count": null,
   "metadata": {},
   "outputs": [],
   "source": []
  }
 ],
 "metadata": {
  "kernelspec": {
   "display_name": "Python 3.8.3 64-bit ('py38_torch16_cuda102': conda)",
   "language": "python",
   "name": "python38364bitpy38torch16cuda102condae22a1b3797fd4069be2d347c9b086307"
  },
  "language_info": {
   "codemirror_mode": {
    "name": "ipython",
    "version": 3
   },
   "file_extension": ".py",
   "mimetype": "text/x-python",
   "name": "python",
   "nbconvert_exporter": "python",
   "pygments_lexer": "ipython3",
   "version": "3.8.3"
  },
  "toc": {
   "base_numbering": 1,
   "nav_menu": {},
   "number_sections": false,
   "sideBar": true,
   "skip_h1_title": false,
   "title_cell": "Table of Contents",
   "title_sidebar": "Contents",
   "toc_cell": false,
   "toc_position": {},
   "toc_section_display": true,
   "toc_window_display": false
  }
 },
 "nbformat": 4,
 "nbformat_minor": 4
}
